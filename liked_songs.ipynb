{
 "cells": [
  {
   "cell_type": "code",
   "execution_count": 63,
   "id": "ce39e7a3-5bc0-4cc8-8972-ed4ecc66a874",
   "metadata": {},
   "outputs": [],
   "source": [
    "from userdata import SpotifyUser\n",
    "from pprint import pprint\n",
    "import pandas as pd"
   ]
  },
  {
   "cell_type": "code",
   "execution_count": 3,
   "id": "1d35edbe-8a5f-4f02-80d5-38b50c271074",
   "metadata": {},
   "outputs": [],
   "source": [
    "sp = SpotifyUser()"
   ]
  },
  {
   "cell_type": "code",
   "execution_count": 69,
   "id": "60d15ffd-86fe-4cbc-a849-bf5400963a6d",
   "metadata": {},
   "outputs": [],
   "source": [
    "out = sp.sp_client.current_user_saved_tracks(limit=50, offset=offset)['items']"
   ]
  },
  {
   "cell_type": "code",
   "execution_count": 80,
   "id": "c9644824-54b5-47d1-9fc3-f63ed0ea115b",
   "metadata": {},
   "outputs": [
    {
     "name": "stdout",
     "output_type": "stream",
     "text": [
      "'TOOL'\n"
     ]
    }
   ],
   "source": [
    "pprint(out[0]['track']['artists'][0]['name'])"
   ]
  },
  {
   "cell_type": "code",
   "execution_count": 82,
   "id": "91fe19c1-6597-467f-aec7-a0ed33544613",
   "metadata": {},
   "outputs": [],
   "source": [
    "uris = []\n",
    "names = []\n",
    "offset = 0\n",
    "while True:\n",
    "    out = sp.sp_client.current_user_saved_tracks(limit=50, offset=offset)['items']\n",
    "    if len(out) == 0:\n",
    "        break\n",
    "    uris += [track['track']['uri'] for track in out]\n",
    "    names += [\n",
    "        {\n",
    "            \"name\":track['track']['name'],\n",
    "            \"album\":track['track']['album']['name'],\n",
    "            \"artist\":track['track']['artists'][0]['name']\n",
    "        } for track in out\n",
    "    ]\n",
    "    offset += 50"
   ]
  },
  {
   "cell_type": "code",
   "execution_count": 87,
   "id": "2df5e9ae-f8d4-4ecb-95b1-d68e4b590cdc",
   "metadata": {},
   "outputs": [],
   "source": [
    "audio_feats = []\n",
    "\n",
    "for i in range(0,len(uris),100):\n",
    "    audio_feats += sp.sp_client.audio_features(uris[i:i+100])"
   ]
  },
  {
   "cell_type": "code",
   "execution_count": 104,
   "id": "25cc2d3d-5019-4888-b504-c7b5b1745e0f",
   "metadata": {},
   "outputs": [],
   "source": [
    "df1 = pd.DataFrame(audio_feats)\n",
    "df2 = pd.DataFrame(names)"
   ]
  },
  {
   "cell_type": "code",
   "execution_count": 109,
   "id": "324661af-64f7-4ac1-b6fb-68e3ab55bec3",
   "metadata": {},
   "outputs": [],
   "source": [
    "df = df1.join(df2)"
   ]
  },
  {
   "cell_type": "code",
   "execution_count": 110,
   "id": "37a484fa-b8ff-4b08-b8bb-769397e931bb",
   "metadata": {},
   "outputs": [],
   "source": [
    "df.to_csv('liked_songs.csv')"
   ]
  },
  {
   "cell_type": "code",
   "execution_count": null,
   "id": "bed81e58-cc5f-4141-9ddc-75deb31a757d",
   "metadata": {},
   "outputs": [],
   "source": []
  }
 ],
 "metadata": {
  "kernelspec": {
   "display_name": "Python 3 (ipykernel)",
   "language": "python",
   "name": "python3"
  },
  "language_info": {
   "codemirror_mode": {
    "name": "ipython",
    "version": 3
   },
   "file_extension": ".py",
   "mimetype": "text/x-python",
   "name": "python",
   "nbconvert_exporter": "python",
   "pygments_lexer": "ipython3",
   "version": "3.11.5"
  }
 },
 "nbformat": 4,
 "nbformat_minor": 5
}
