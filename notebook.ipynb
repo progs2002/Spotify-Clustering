{
 "cells": [
  {
   "cell_type": "code",
   "execution_count": 139,
   "metadata": {},
   "outputs": [],
   "source": [
    "import time\n",
    "import os \n",
    "from dotenv import load_dotenv\n",
    "\n",
    "import spotipy\n",
    "from spotipy.oauth2 import SpotifyOAuth\n",
    "\n",
    "import pprint\n",
    "\n",
    "import pandas as pd"
   ]
  },
  {
   "cell_type": "code",
   "execution_count": 34,
   "metadata": {},
   "outputs": [],
   "source": [
    "def get_spotify_client(client_id, client_secret, redirect_uri, scope):\n",
    "    return spotipy.Spotify(auth_manager=SpotifyOAuth(\n",
    "        client_id=client_id, \n",
    "        client_secret=client_secret, \n",
    "        scope=scope,\n",
    "        redirect_uri=redirect_uri\n",
    "    ))"
   ]
  },
  {
   "cell_type": "code",
   "execution_count": 35,
   "metadata": {},
   "outputs": [],
   "source": [
    "load_dotenv()\n",
    "client_id = os.environ['CLIENT_ID']\n",
    "client_secret = os.environ['CLIENT_SECRET']\n",
    "redirect_uri = 'http://localhost:3000'\n",
    "scope = \"user-library-read user-top-read\"\n",
    "\n",
    "sp = get_spotify_client(client_id, client_secret, redirect_uri, scope)"
   ]
  },
  {
   "cell_type": "code",
   "execution_count": 89,
   "metadata": {},
   "outputs": [],
   "source": [
    "def get_top_stats(client, limit=20, offset=0, time_range='medium_term', top_type='artists'):\n",
    "    if top_type == 'artists':\n",
    "        return client.current_user_top_artists(limit, offset, time_range)\n",
    "    elif top_type == 'tracks':\n",
    "        return client.current_user_top_tracks(limit, offset, time_range)"
   ]
  },
  {
   "cell_type": "code",
   "execution_count": 162,
   "metadata": {},
   "outputs": [],
   "source": [
    "def get_top_artists(client, limit=90, time_range='long_term'):\n",
    "    if limit <= 50:\n",
    "        items = get_top_stats(client, limit=limit, time_range=time_range, top_type='artists')['items'] \n",
    "    else:\n",
    "        items = get_top_stats(client, limit=40, time_range=time_range, top_type='artists')['items'] \n",
    "        items += get_top_stats(client, limit=limit-40, offset=40, time_range=time_range, top_type='artists')['items'] \n",
    "    return pd.DataFrame(items, columns=['name','genres','popularity'])"
   ]
  },
  {
   "cell_type": "code",
   "execution_count": 160,
   "metadata": {},
   "outputs": [],
   "source": [
    "artists_df = get_top_artists(sp)"
   ]
  },
  {
   "cell_type": "code",
   "execution_count": 161,
   "metadata": {},
   "outputs": [],
   "source": [
    "artists_df.to_csv('top90artists.csv')"
   ]
  },
  {
   "cell_type": "code",
   "execution_count": null,
   "metadata": {},
   "outputs": [],
   "source": []
  }
 ],
 "metadata": {
  "kernelspec": {
   "display_name": "Python 3",
   "language": "python",
   "name": "python3"
  },
  "language_info": {
   "codemirror_mode": {
    "name": "ipython",
    "version": 3
   },
   "file_extension": ".py",
   "mimetype": "text/x-python",
   "name": "python",
   "nbconvert_exporter": "python",
   "pygments_lexer": "ipython3",
   "version": "3.11.3"
  },
  "orig_nbformat": 4
 },
 "nbformat": 4,
 "nbformat_minor": 2
}
